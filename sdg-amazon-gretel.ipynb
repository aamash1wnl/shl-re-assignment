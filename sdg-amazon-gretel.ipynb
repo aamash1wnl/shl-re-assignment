{
  "nbformat": 4,
  "nbformat_minor": 0,
  "metadata": {
    "colab": {
      "provenance": []
    },
    "kernelspec": {
      "name": "python3",
      "display_name": "Python 3"
    },
    "language_info": {
      "name": "python"
    }
  },
  "cells": [
    {
      "cell_type": "code",
      "execution_count": 1,
      "metadata": {
        "colab": {
          "base_uri": "https://localhost:8080/"
        },
        "id": "ETbwOc8SGduK",
        "outputId": "075ad5d2-0065-4617-b8d5-846a33007a07"
      },
      "outputs": [
        {
          "output_type": "stream",
          "name": "stderr",
          "text": [
            "<ipython-input-1-1239533bc29a>:23: FutureWarning: A value is trying to be set on a copy of a DataFrame or Series through chained assignment using an inplace method.\n",
            "The behavior will change in pandas 3.0. This inplace method will never work because the intermediate object on which we are setting values always behaves as a copy.\n",
            "\n",
            "For example, when doing 'df[col].method(value, inplace=True)', try using 'df.method({col: value}, inplace=True)' or df[col] = df[col].method(value) instead, to perform the operation inplace on the original object.\n",
            "\n",
            "\n",
            "  df['helpful_vote'].fillna(0, inplace=True)  # Filling with 0, but you can choose another approach\n"
          ]
        },
        {
          "output_type": "stream",
          "name": "stdout",
          "text": [
            "rating               string[python]\n",
            "title                string[python]\n",
            "text                 string[python]\n",
            "asin                 string[python]\n",
            "parent_asin          string[python]\n",
            "user_id              string[python]\n",
            "helpful_vote         string[python]\n",
            "verified_purchase    string[python]\n",
            "dtype: object\n",
            "      rating                                      title  \\\n",
            "0          4                  B Complex in gel cap form   \n",
            "1          5                                 Five Stars   \n",
            "2          5                                 Five Stars   \n",
            "3          5               Vitamin Shoppe Dry Vitamin A   \n",
            "4          5        Un producto que compro regularmente   \n",
            "...      ...                                        ...   \n",
            "16666      5                                       Love   \n",
            "16667      5                           Used to use this   \n",
            "16668      5                                works great   \n",
            "16669      4  That this product is unbelievably perfect   \n",
            "16670      5                                 Other uses   \n",
            "\n",
            "                                                    text        asin  \\\n",
            "0      I bought this along with Vit C in gel cap form...  B00012ND5G   \n",
            "1                                          great product  B00013Z0ZQ   \n",
            "2                                     Came as expectedly  B00013Z0ZQ   \n",
            "3      Excellent Product  Fast Delivery  Will Buy Fro...  B00013Z1KA   \n",
            "4                                  Es muy buena vitamina  B00013Z1KA   \n",
            "...                                                  ...         ...   \n",
            "16666  I cannot say enough about this gel Hands arms ...  B0009VO8EO   \n",
            "16667  Love this gel for skin  Used to use Banana Boa...  B0009VO8EO   \n",
            "16668                    Easy to use and it really works  B0009VO8EO   \n",
            "16669  I had surgery and both of my doctors recommend...  B0009VO8EO   \n",
            "16670  A hair braider at a Renaissance Fair taught me...  B0009VO8EO   \n",
            "\n",
            "      parent_asin                       user_id helpful_vote verified_purchase  \n",
            "0      B00012ND5G  AGDVFFLJWAQ3ULNNKF4LXID2RVSQ            1              True  \n",
            "1      B00013Z0ZQ  AG3BSKXHDGP6E3EGQD2SXCK6KFQQ            0              True  \n",
            "2      B00013Z0ZQ  AHG2WKFD4LXPC46WWC6JMQGX52JA            0              True  \n",
            "3      B00013Z1KA  AEOF7RT3AC4ACRX5HGIP2V3BNIHA            0              True  \n",
            "4      B00013Z1KA  AGW2WETWQRL2PKUGTL2LU7IJ2BPQ            0              True  \n",
            "...           ...                           ...          ...               ...  \n",
            "16666  B0C7RQ35K7  AFUCOHHPFBX6RHHUW7OGFHSBQ5KQ            0              True  \n",
            "16667  B0C7RQ35K7  AEKMUWW2ZDLOOKNL6QFX7DRKCNEQ            0              True  \n",
            "16668  B0C7RQ35K7  AF3GLUKTNSQN4YYV6II2JU3LHS2Q            0              True  \n",
            "16669  B0C7RQ35K7  AECDMI6JKOAPXNCYCWSKQQPEO6YQ            0              True  \n",
            "16670  B0C7RQ35K7  AEHWPGRE2DYRGUKJPNFFJBYKNUPQ            2              True  \n",
            "\n",
            "[16671 rows x 8 columns]\n"
          ]
        }
      ],
      "source": [
        "import pandas as pd\n",
        "import re\n",
        "\n",
        "# Load your dataset\n",
        "data = pd.read_csv('/content/reviews_supplements.csv')\n",
        "df = pd.DataFrame(data)\n",
        "\n",
        "# Updated clean_text function to handle non-string values (like NaN)\n",
        "def clean_text(text):\n",
        "    if isinstance(text, str):  # Check if the value is a string\n",
        "        text = re.sub(r'[^A-Za-z0-9\\s]', '', text)  # Remove non-alphanumeric characters\n",
        "        return text.strip()\n",
        "    return text  # If not a string, return the value as is (e.g., NaN)\n",
        "\n",
        "# Apply the cleaning function to 'title' and 'text' columns\n",
        "df['title'] = df['title'].apply(clean_text)\n",
        "df['text'] = df['text'].apply(clean_text)\n",
        "\n",
        "# Ensure 'helpful_vote' column is numeric\n",
        "df['helpful_vote'] = pd.to_numeric(df['helpful_vote'], errors='coerce')\n",
        "\n",
        "# Handle any NaN values in 'helpful_vote' (optional, you can choose to drop or fill them)\n",
        "df['helpful_vote'].fillna(0, inplace=True)  # Filling with 0, but you can choose another approach\n",
        "\n",
        "# Convert 'verified_purchase' to boolean\n",
        "df['verified_purchase'] = df['verified_purchase'].apply(lambda x: True if x == True else False)\n",
        "\n",
        "# Drop 'date', 'time', and 'timestamp' columns\n",
        "df = df.drop(columns=['date', 'time', 'timestamp'])\n",
        "\n",
        "# Explicitly cast each column to its appropriate datatype\n",
        "df = df.astype({\n",
        "    'rating': 'string',\n",
        "    'title': 'string',\n",
        "    'text': 'string',\n",
        "    'asin': 'string',\n",
        "    'parent_asin': 'string',\n",
        "    'user_id': 'string',\n",
        "    'helpful_vote': 'string',\n",
        "    'verified_purchase': 'string'\n",
        "})\n",
        "\n",
        "# Save the cleaned DataFrame to a CSV file\n",
        "df.to_csv('/content/cleaned_reviews_supplements.csv', index=False)\n",
        "\n",
        "# Display cleaned DataFrame\n",
        "print(df.dtypes)  # To confirm data types\n",
        "print(df)         # Display the cleaned DataFrame"
      ]
    },
    {
      "cell_type": "code",
      "source": [
        "!git clone https://github.com/gretelai/gdpr-helpers.git\n",
        "!cd gdpr-helpers; pip install -Uqq .\n",
        "!pip install --upgrade tabulate"
      ],
      "metadata": {
        "colab": {
          "base_uri": "https://localhost:8080/"
        },
        "id": "lYfAk7ngGgll",
        "outputId": "d5ca2e35-3f53-4921-8d6b-e42d53b2bbb6"
      },
      "execution_count": 2,
      "outputs": [
        {
          "output_type": "stream",
          "name": "stdout",
          "text": [
            "fatal: destination path 'gdpr-helpers' already exists and is not an empty directory.\n",
            "  Preparing metadata (setup.py) ... \u001b[?25l\u001b[?25hdone\n",
            "  Building wheel for gdpr-helpers (setup.py) ... \u001b[?25l\u001b[?25hdone\n",
            "\u001b[31mERROR: pip's dependency resolver does not currently take into account all the packages that are installed. This behaviour is the source of the following dependency conflicts.\n",
            "bigframes 1.19.0 requires tabulate>=0.9, but you have tabulate 0.8.9 which is incompatible.\u001b[0m\u001b[31m\n",
            "\u001b[0mRequirement already satisfied: tabulate in /usr/local/lib/python3.10/dist-packages (0.8.9)\n",
            "Collecting tabulate\n",
            "  Using cached tabulate-0.9.0-py3-none-any.whl.metadata (34 kB)\n",
            "Using cached tabulate-0.9.0-py3-none-any.whl (35 kB)\n",
            "Installing collected packages: tabulate\n",
            "  Attempting uninstall: tabulate\n",
            "    Found existing installation: tabulate 0.8.9\n",
            "    Uninstalling tabulate-0.8.9:\n",
            "      Successfully uninstalled tabulate-0.8.9\n",
            "\u001b[31mERROR: pip's dependency resolver does not currently take into account all the packages that are installed. This behaviour is the source of the following dependency conflicts.\n",
            "gretel-client 0.22.1 requires tabulate==0.8.9, but you have tabulate 0.9.0 which is incompatible.\u001b[0m\u001b[31m\n",
            "\u001b[0mSuccessfully installed tabulate-0.9.0\n"
          ]
        }
      ]
    },
    {
      "cell_type": "code",
      "source": [
        "import os\n",
        "if not os.getcwd().endswith('gdpr-helpers'):\n",
        "    os.chdir('gdpr-helpers')\n",
        "\n",
        "import glob\n",
        "from gdpr_helpers import Anonymizer, reports  # Import reports module\n",
        "import pandas as pd # Import pandas for DataFrame operations\n",
        "search_pattern = \"/content/cleaned_reviews_supplements.csv\"\n",
        "\n",
        "am = Anonymizer(\n",
        "    project_name=\"gdpr-workflow\",\n",
        "    run_mode=\"cloud\",\n",
        "    transforms_config=\"src/config/transforms_config.yaml\",\n",
        "    synthetics_config=\"src/config/synthetics_config.yaml\",\n",
        "    endpoint=\"https://api.gretel.cloud\"\n",
        "    )\n",
        "\n",
        "def modified_ner_report(report):\n",
        "    \"\"\"Modified ner_report function to handle the TypeError and ValueError.\"\"\"\n",
        "    try:\n",
        "        df = pd.DataFrame(report)\n",
        "    except ValueError:\n",
        "        # If ValueError occurs due to uneven lengths, handle it (e.g., return a message)\n",
        "        return {\"md\": \"**NER report data has uneven lengths. Cannot create DataFrame.**\"}\n",
        "\n",
        "    # Check if the DataFrame is empty\n",
        "    if df.empty:\n",
        "        return {\"md\": \"**No entities detected** by named entity recognition.\"}\n",
        "    # Check the number of detected entities using len() instead of comparing to an integer\n",
        "    num_entities = len(df.entities_detected.value_counts().keys()) if 'entities_detected' in df else 0  # Handle missing column\n",
        "    if num_entities > 3:\n",
        "        ner_text = \"<b>Multiple PII types</b> detected by named entity recognition.\"\n",
        "    elif num_entities > 0: # Check if any entities are detected\n",
        "        ner_text = \"<b>PII detected</b> by named entity recognition.\"\n",
        "    else:\n",
        "        ner_text = \"**No entities detected** by named entity recognition.\"\n",
        "    return {\"md\": ner_text}\n",
        "\n",
        "# Replace the original ner_report with the modified one\n",
        "reports.ner_report = modified_ner_report # Overwriting original ner_report\n",
        "\n",
        "for dataset_path in glob.glob(search_pattern):\n",
        "    am.anonymize(dataset_path=dataset_path)"
      ],
      "metadata": {
        "colab": {
          "base_uri": "https://localhost:8080/",
          "height": 1000
        },
        "id": "MvSlqC8uGgjU",
        "outputId": "fec7e8db-4623-42e8-8511-06d82363b422"
      },
      "execution_count": 3,
      "outputs": [
        {
          "output_type": "stream",
          "name": "stdout",
          "text": [
            "Found cached Gretel credentials\n",
            "Using endpoint https://api.gretel.cloud\n",
            "Logged in as hitlergocrazy@gmail.com ✅\n",
            "Follow along with model training at: https://console.gretel.ai/proj_2n5I6nJGQZa5EOv9CSzHCYvIbAM\n",
            "Anonymizing '/content/cleaned_reviews_supplements.csv'\n",
            "Warning: Found NaN values in training data columns: ['title', 'text']. Replacing NaN values with ''.\n",
            "**NER report data has uneven lengths. Cannot create DataFrame.**\n",
            "Transforms finished.\n",
            "Processing time: 5.354 seconds\n",
            "Record count: 16671\n",
            "\n",
            "Columns transformed\n",
            "| field_name   | transform_type   |   transformed_count |\n",
            "|:-------------|:-----------------|--------------------:|\n",
            "| user_id      | hash             |               16671 |\n",
            "\n",
            "\n"
          ]
        },
        {
          "output_type": "stream",
          "name": "stderr",
          "text": [
            "Actgan - Job completed: : 306it [06:56,  1.36s/it, epoch=597, loss_g=-1.45, loss_d=0.0081, loss_r=0]\n"
          ]
        },
        {
          "output_type": "stream",
          "name": "stdout",
          "text": [
            "dict_keys(['left_rows', 'left_cols', 'right_rows', 'right_cols', 'fields', 'left_correlation', 'right_correlation', 'correlation_difference', 'memorized_lines', 'mean_absolute_error', 'average_divergence', 'left_pca', 'right_pca', 'synthetic_data_quality_score', 'field_correlation_stability', 'principal_component_stability', 'field_distribution_stability', 'privacy_protection_level', 'membership_inference_attack_score', 'attribute_inference_attack_score', 'data_privacy_score', 'model_id', 'project_name', 'model_name', 'model_type', 'fatal_error', 'summary', 'total_time_seconds', 'total_billed_seconds', 'total_input_bytes', 'total_output_bytes', 'total_billed_bytes', 'job_status', 'job_type'])\n",
            "\n",
            "\n",
            "Synthesis finished.\n",
            "Lines memorized: 0\n",
            "\n",
            "Model training time: 395.458 seconds\n",
            "\n",
            "Job status: completed\n",
            "\n",
            "Job type: actgan\n",
            "\n",
            "Privacy report\n",
            "|                        | value    |\n",
            "|:-----------------------|:---------|\n",
            "| outlier_filter         | Medium   |\n",
            "| similarity_filter      | Medium   |\n",
            "| overfitting_protection | Disabled |\n",
            "| differential_privacy   | Disabled |\n",
            "\n",
            "Accuracy report\n",
            "| field                             |   value |\n",
            "|:----------------------------------|--------:|\n",
            "| synthetic_data_quality_score      |    86   |\n",
            "| field_correlation_stability       |    87   |\n",
            "| principal_component_stability     |    71   |\n",
            "| field_distribution_stability      |   100   |\n",
            "| membership_inference_attack_score |    95.4 |\n",
            "| attribute_inference_attack_score  |    98.6 |\n",
            "| data_privacy_score                |    97   |\n",
            "\n",
            "\n"
          ]
        },
        {
          "output_type": "stream",
          "name": "stderr",
          "text": [
            "/usr/local/lib/python3.10/dist-packages/gdpr_helpers/reports.py:192: FutureWarning: Downcasting object dtype arrays on .fillna, .ffill, .bfill is deprecated and will change in a future version. Call result.infer_objects(copy=False) instead. To opt-in to the future behavior, set `pd.set_option('future.no_silent_downcasting', True)`\n",
            "  data = data.fillna(\"\")\n",
            "/usr/local/lib/python3.10/dist-packages/gdpr_helpers/reports.py:193: FutureWarning: Series.__getitem__ treating keys as positions is deprecated. In a future version, integer keys will always be treated as labels (consistent with DataFrame behavior). To access a value by position, use `ser.iloc[pos]`\n",
            "  if data[0] != data[1]:\n",
            "/usr/local/lib/python3.10/dist-packages/gdpr_helpers/reports.py:192: FutureWarning: Downcasting object dtype arrays on .fillna, .ffill, .bfill is deprecated and will change in a future version. Call result.infer_objects(copy=False) instead. To opt-in to the future behavior, set `pd.set_option('future.no_silent_downcasting', True)`\n",
            "  data = data.fillna(\"\")\n",
            "/usr/local/lib/python3.10/dist-packages/gdpr_helpers/reports.py:193: FutureWarning: Series.__getitem__ treating keys as positions is deprecated. In a future version, integer keys will always be treated as labels (consistent with DataFrame behavior). To access a value by position, use `ser.iloc[pos]`\n",
            "  if data[0] != data[1]:\n"
          ]
        },
        {
          "output_type": "error",
          "ename": "KeyError",
          "evalue": "'html'",
          "traceback": [
            "\u001b[0;31m---------------------------------------------------------------------------\u001b[0m",
            "\u001b[0;31mKeyError\u001b[0m                                  Traceback (most recent call last)",
            "\u001b[0;32m<ipython-input-3-faf885fc78a6>\u001b[0m in \u001b[0;36m<cell line: 42>\u001b[0;34m()\u001b[0m\n\u001b[1;32m     41\u001b[0m \u001b[0;34m\u001b[0m\u001b[0m\n\u001b[1;32m     42\u001b[0m \u001b[0;32mfor\u001b[0m \u001b[0mdataset_path\u001b[0m \u001b[0;32min\u001b[0m \u001b[0mglob\u001b[0m\u001b[0;34m.\u001b[0m\u001b[0mglob\u001b[0m\u001b[0;34m(\u001b[0m\u001b[0msearch_pattern\u001b[0m\u001b[0;34m)\u001b[0m\u001b[0;34m:\u001b[0m\u001b[0;34m\u001b[0m\u001b[0;34m\u001b[0m\u001b[0m\n\u001b[0;32m---> 43\u001b[0;31m     \u001b[0mam\u001b[0m\u001b[0;34m.\u001b[0m\u001b[0manonymize\u001b[0m\u001b[0;34m(\u001b[0m\u001b[0mdataset_path\u001b[0m\u001b[0;34m=\u001b[0m\u001b[0mdataset_path\u001b[0m\u001b[0;34m)\u001b[0m\u001b[0;34m\u001b[0m\u001b[0;34m\u001b[0m\u001b[0m\n\u001b[0m",
            "\u001b[0;32m/usr/local/lib/python3.10/dist-packages/gdpr_helpers/anonymizer.py\u001b[0m in \u001b[0;36manonymize\u001b[0;34m(self, dataset_path)\u001b[0m\n\u001b[1;32m    106\u001b[0m         \u001b[0mself\u001b[0m\u001b[0;34m.\u001b[0m\u001b[0mtransform\u001b[0m\u001b[0;34m(\u001b[0m\u001b[0;34m)\u001b[0m\u001b[0;34m\u001b[0m\u001b[0;34m\u001b[0m\u001b[0m\n\u001b[1;32m    107\u001b[0m         \u001b[0mself\u001b[0m\u001b[0;34m.\u001b[0m\u001b[0msynthesize\u001b[0m\u001b[0;34m(\u001b[0m\u001b[0;34m)\u001b[0m\u001b[0;34m\u001b[0m\u001b[0;34m\u001b[0m\u001b[0m\n\u001b[0;32m--> 108\u001b[0;31m         \u001b[0mself\u001b[0m\u001b[0;34m.\u001b[0m\u001b[0m_save_reports\u001b[0m\u001b[0;34m(\u001b[0m\u001b[0mself\u001b[0m\u001b[0;34m.\u001b[0m\u001b[0manonymization_report_path\u001b[0m\u001b[0;34m)\u001b[0m\u001b[0;34m\u001b[0m\u001b[0;34m\u001b[0m\u001b[0m\n\u001b[0m\u001b[1;32m    109\u001b[0m \u001b[0;34m\u001b[0m\u001b[0m\n\u001b[1;32m    110\u001b[0m         \u001b[0mprint\u001b[0m\u001b[0;34m(\u001b[0m\u001b[0;34m\"Anonymization complete\"\u001b[0m\u001b[0;34m)\u001b[0m\u001b[0;34m\u001b[0m\u001b[0;34m\u001b[0m\u001b[0m\n",
            "\u001b[0;32m/usr/local/lib/python3.10/dist-packages/gdpr_helpers/anonymizer.py\u001b[0m in \u001b[0;36m_save_reports\u001b[0;34m(self, output_path)\u001b[0m\n\u001b[1;32m    123\u001b[0m             \u001b[0;34mf\"<h1>{self.dataset_path}</h1>\"\u001b[0m\u001b[0;34m\u001b[0m\u001b[0;34m\u001b[0m\u001b[0m\n\u001b[1;32m    124\u001b[0m             \u001b[0;34mf\"<p>{reports.get_header()}</p>\"\u001b[0m\u001b[0;34m\u001b[0m\u001b[0;34m\u001b[0m\u001b[0m\n\u001b[0;32m--> 125\u001b[0;31m             \u001b[0;34mf\"{reports.ner_report(self.ner_report)['html']}\"\u001b[0m\u001b[0;34m\u001b[0m\u001b[0;34m\u001b[0m\u001b[0m\n\u001b[0m\u001b[1;32m    126\u001b[0m             \u001b[0;34mf\"{reports.transform_report(self.run_report)['html']}\"\u001b[0m\u001b[0;34m\u001b[0m\u001b[0;34m\u001b[0m\u001b[0m\n\u001b[1;32m    127\u001b[0m             \u001b[0;34mf\"{reports.synthesis_report(self.syn_report)['html']}\"\u001b[0m\u001b[0;34m\u001b[0m\u001b[0;34m\u001b[0m\u001b[0m\n",
            "\u001b[0;31mKeyError\u001b[0m: 'html'"
          ]
        }
      ]
    },
    {
      "cell_type": "markdown",
      "source": [
        "### Ignore the HTML error above, it shows the failure in presenting the report in html form, which can be found on grete's dashboard as well"
      ],
      "metadata": {
        "id": "GLeK-Z0aPqal"
      }
    },
    {
      "cell_type": "code",
      "source": [],
      "metadata": {
        "id": "1FmyDq8pGgev"
      },
      "execution_count": 4,
      "outputs": []
    },
    {
      "cell_type": "code",
      "source": [],
      "metadata": {
        "id": "bbvsdWJXGgcU"
      },
      "execution_count": null,
      "outputs": []
    }
  ]
}